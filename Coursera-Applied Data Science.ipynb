{
    "cells": [
        {
            "metadata": {
                "collapsed": true
            },
            "cell_type": "markdown",
            "source": "# Welcome to Applied Data Science Capestone\n## This is the Notebook of the project\n\nHere will be the the <b>battle of neighborhood </b>"
        },
        {
            "metadata": {},
            "cell_type": "code",
            "source": "import pandas as pd\nimport numpy as np\n\nprint('the version of Pandas is ', pd.__version__)\nprint('the version of Numpy is ',np.__version__)\n\nprint('Hello Capstone Project Course!')",
            "execution_count": 5,
            "outputs": [
                {
                    "output_type": "stream",
                    "text": "the version of Pandas is  0.24.1\nthe version of Numpy is  1.15.4\nHello Capstone Project Course!\n",
                    "name": "stdout"
                }
            ]
        },
        {
            "metadata": {},
            "cell_type": "code",
            "source": "",
            "execution_count": null,
            "outputs": []
        }
    ],
    "metadata": {
        "kernelspec": {
            "name": "python3",
            "display_name": "Python 3.6",
            "language": "python"
        },
        "language_info": {
            "name": "python",
            "version": "3.6.9",
            "mimetype": "text/x-python",
            "codemirror_mode": {
                "name": "ipython",
                "version": 3
            },
            "pygments_lexer": "ipython3",
            "nbconvert_exporter": "python",
            "file_extension": ".py"
        }
    },
    "nbformat": 4,
    "nbformat_minor": 1
}