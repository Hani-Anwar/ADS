{
    "cells": [
        {
            "cell_type": "markdown",
            "metadata": {},
            "source": "\n## The Battle of Neighborhoods\n##### Description of the Problem\n\n"
        },
        {
            "cell_type": "markdown",
            "metadata": {},
            "source": "#### We need to assist a business owner who want to open a new restaurant in a specific area around new york\n\n#### we begin to ask questions about the type of the desired area and which type of meals will be provided \n\n\n"
        },
        {
            "cell_type": "markdown",
            "metadata": {},
            "source": "### Problem definition "
        },
        {
            "cell_type": "markdown",
            "metadata": {},
            "source": "\nThe data used in this project have two features. The latitude and longitude. There are 51 samples retrieved from my API call that have different locations, names, type of food etc. The data was retrieved from foursquare api call. The api call returns these 51 restaurants in JSON format. Using builtin libraries from pandas, the JSON file was converted into pandas dataframe.\n"
        },
        {
            "cell_type": "markdown",
            "metadata": {},
            "source": "### Data"
        },
        {
            "cell_type": "markdown",
            "metadata": {},
            "source": "The data used in this project have two features. The latitude and longitude. There are 51 samples retrieved from my API call that have different locations, names, type of food etc. The data was retrieved from foursquare api call. The api call returns these 51 restaurants in JSON format. Using builtin libraries from pandas, the JSON file was converted into pandas dataframe."
        },
        {
            "cell_type": "markdown",
            "metadata": {},
            "source": "### Methodology"
        },
        {
            "cell_type": "markdown",
            "metadata": {},
            "source": "Following the data retrieval, the feature matrix were written into  a csv file and the matrix was independently analyzed in terms of samples and outliers. Following the initial analysis, the feature matrix were used to train Kmeans clustering algorithm. Kmeans algorithm were run using Sklearn library. Following the cluster, the cluster centers were printed, then geocoder was used to retrieve the addresses from center locations."
        },
        {
            "cell_type": "markdown",
            "metadata": {},
            "source": "### Results"
        },
        {
            "cell_type": "markdown",
            "metadata": {},
            "source": "The two addresses that came out as an output were 13728, West Avenue, Jefferson, Cleveland, Cuyahoga County, Ohio, 44111, USA and\nOrange Avenue, East 4th Street, Playhouse Square, Cleveland, Cuyahoga County, Ohio, 44115, USA respectively.\n\n"
        },
        {
            "cell_type": "markdown",
            "metadata": {},
            "source": "### Discussion"
        },
        {
            "cell_type": "markdown",
            "metadata": {},
            "source": "These addresses are indeed the restaurant centers of Cleveland that validates my algorithm. From personal experience, I can say that the algorithm produced the two clusters as expected. These adresses will be critical for businesses that wants to be in close proximity to major restaurants in Cleveland."
        },
        {
            "cell_type": "code",
            "execution_count": null,
            "metadata": {},
            "outputs": [],
            "source": ""
        }
    ],
    "metadata": {
        "kernelspec": {
            "display_name": "Python 3.6",
            "language": "python",
            "name": "python3"
        },
        "language_info": {
            "codemirror_mode": {
                "name": "ipython",
                "version": 3
            },
            "file_extension": ".py",
            "mimetype": "text/x-python",
            "name": "python",
            "nbconvert_exporter": "python",
            "pygments_lexer": "ipython3",
            "version": "3.6.9"
        }
    },
    "nbformat": 4,
    "nbformat_minor": 1
}